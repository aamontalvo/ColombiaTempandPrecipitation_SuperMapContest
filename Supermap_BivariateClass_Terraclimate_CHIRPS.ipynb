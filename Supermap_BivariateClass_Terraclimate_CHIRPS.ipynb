{
 "cells": [
  {
   "cell_type": "code",
   "execution_count": 1,
   "metadata": {},
   "outputs": [],
   "source": [
    "import ee\n",
    "import geemap\n",
    "import geopandas as gpd\n",
    "import pandas as pd\n",
    "import matplotlib.pyplot as plt\n",
    "import seaborn as sns\n",
    "# #from sklearn.metrics import r2_score, mean_squared_error\n",
    "# import numpy as np\n",
    "# import os\n",
    "# from pandas.tseries.offsets import *\n",
    "# import calendar\n",
    "# import os\n",
    "# #from shapely.geometry import Point"
   ]
  },
  {
   "cell_type": "code",
   "execution_count": 4,
   "metadata": {},
   "outputs": [
    {
     "data": {
      "text/html": [
       "\n",
       "            <style>\n",
       "                .geemap-dark {\n",
       "                    --jp-widgets-color: white;\n",
       "                    --jp-widgets-label-color: white;\n",
       "                    --jp-ui-font-color1: white;\n",
       "                    --jp-layout-color2: #454545;\n",
       "                    background-color: #383838;\n",
       "                }\n",
       "\n",
       "                .geemap-dark .jupyter-button {\n",
       "                    --jp-layout-color3: #383838;\n",
       "                }\n",
       "\n",
       "                .geemap-colab {\n",
       "                    background-color: var(--colab-primary-surface-color, white);\n",
       "                }\n",
       "\n",
       "                .geemap-colab .jupyter-button {\n",
       "                    --jp-layout-color3: var(--colab-primary-surface-color, white);\n",
       "                }\n",
       "            </style>\n",
       "            "
      ],
      "text/plain": [
       "<IPython.core.display.HTML object>"
      ]
     },
     "metadata": {},
     "output_type": "display_data"
    }
   ],
   "source": [
    "# Initialize Earth Engine\n",
    "geemap.ee.Initialize()"
   ]
  },
  {
   "cell_type": "code",
   "execution_count": 5,
   "metadata": {},
   "outputs": [
    {
     "data": {
      "text/html": [
       "\n",
       "            <style>\n",
       "                .geemap-dark {\n",
       "                    --jp-widgets-color: white;\n",
       "                    --jp-widgets-label-color: white;\n",
       "                    --jp-ui-font-color1: white;\n",
       "                    --jp-layout-color2: #454545;\n",
       "                    background-color: #383838;\n",
       "                }\n",
       "\n",
       "                .geemap-dark .jupyter-button {\n",
       "                    --jp-layout-color3: #383838;\n",
       "                }\n",
       "\n",
       "                .geemap-colab {\n",
       "                    background-color: var(--colab-primary-surface-color, white);\n",
       "                }\n",
       "\n",
       "                .geemap-colab .jupyter-button {\n",
       "                    --jp-layout-color3: var(--colab-primary-surface-color, white);\n",
       "                }\n",
       "            </style>\n",
       "            "
      ],
      "text/plain": [
       "<IPython.core.display.HTML object>"
      ]
     },
     "metadata": {},
     "output_type": "display_data"
    }
   ],
   "source": [
    "# Path to the GeoPackage\n",
    "gpk_path = r\"C:\\Users\\alexa\\Documents\\PERSONAL PROJECTS\\Colombia Cartography\\Administrativo\\Colombia_Admin.gpkg\"\n",
    "\n",
    "# Layer name within the GeoPackage\n",
    "layer_name = 'Colombia_Admin_Level0'\n",
    "\n",
    "# Read the layer from the GeoPackage\n",
    "colombia_admin0 = gpd.read_file(gpk_path, layer=layer_name)\n",
    "\n",
    "# Reproject to WGS84\n",
    "colombia_admin0 = colombia_admin0.to_crs(epsg=4326)\n",
    "# Convert the GeoDataFrame to an Earth Engine FeatureCollection\n",
    "colombia_admin0_ee = geemap.geopandas_to_ee(colombia_admin0)"
   ]
  },
  {
   "cell_type": "code",
   "execution_count": 89,
   "metadata": {},
   "outputs": [
    {
     "data": {
      "text/html": [
       "\n",
       "            <style>\n",
       "                .geemap-dark {\n",
       "                    --jp-widgets-color: white;\n",
       "                    --jp-widgets-label-color: white;\n",
       "                    --jp-ui-font-color1: white;\n",
       "                    --jp-layout-color2: #454545;\n",
       "                    background-color: #383838;\n",
       "                }\n",
       "\n",
       "                .geemap-dark .jupyter-button {\n",
       "                    --jp-layout-color3: #383838;\n",
       "                }\n",
       "\n",
       "                .geemap-colab {\n",
       "                    background-color: var(--colab-primary-surface-color, white);\n",
       "                }\n",
       "\n",
       "                .geemap-colab .jupyter-button {\n",
       "                    --jp-layout-color3: var(--colab-primary-surface-color, white);\n",
       "                }\n",
       "            </style>\n",
       "            "
      ],
      "text/plain": [
       "<IPython.core.display.HTML object>"
      ]
     },
     "metadata": {},
     "output_type": "display_data"
    }
   ],
   "source": [
    "# Countries Boundaries and Basin Boundaries combined\n",
    "world_filepath = gpd.datasets.get_path('naturalearth_lowres')\n",
    "world = gpd.read_file(world_filepath)\n",
    "colombia = world.loc[world['name'] == 'Colombia'] # Aquí se tiene solamente las fronteras de Colombia.\n",
    "colombia_admin0=colombia\n",
    "# Convert the GeoDataFrame to an Earth Engine FeatureCollection\n",
    "colombia_admin0_ee = geemap.geopandas_to_ee(colombia_admin0)\n",
    "region = colombia_admin0_ee.geometry().bounds().getInfo()"
   ]
  },
  {
   "cell_type": "code",
   "execution_count": 3,
   "metadata": {},
   "outputs": [
    {
     "data": {
      "text/html": [
       "\n",
       "            <style>\n",
       "                .geemap-dark {\n",
       "                    --jp-widgets-color: white;\n",
       "                    --jp-widgets-label-color: white;\n",
       "                    --jp-ui-font-color1: white;\n",
       "                    --jp-layout-color2: #454545;\n",
       "                    background-color: #383838;\n",
       "                }\n",
       "\n",
       "                .geemap-dark .jupyter-button {\n",
       "                    --jp-layout-color3: #383838;\n",
       "                }\n",
       "\n",
       "                .geemap-colab {\n",
       "                    background-color: var(--colab-primary-surface-color, white);\n",
       "                }\n",
       "\n",
       "                .geemap-colab .jupyter-button {\n",
       "                    --jp-layout-color3: var(--colab-primary-surface-color, white);\n",
       "                }\n",
       "            </style>\n",
       "            "
      ],
      "text/plain": [
       "<IPython.core.display.HTML object>"
      ]
     },
     "metadata": {},
     "output_type": "display_data"
    },
    {
     "data": {
      "text/html": [
       "<p>To authorize access needed by Earth Engine, open the following\n",
       "        URL in a web browser and follow the instructions:</p>\n",
       "        <p><a href=https://code.earthengine.google.com/client-auth?scopes=https%3A//www.googleapis.com/auth/earthengine%20https%3A//www.googleapis.com/auth/cloud-platform%20https%3A//www.googleapis.com/auth/devstorage.full_control&request_id=_e6-ZlbwISBsdKGQRtHko1N_j8bbmDQQKkQUwVP23GY&tc=dzcw7qy61JKh_O3E5BIztodknny0TzHYcLPlKSBk-84&cc=7NMcMoYpt-B8u6S_z9cJvOPNHGGKbP6JeoTvvhcA2jE>https://code.earthengine.google.com/client-auth?scopes=https%3A//www.googleapis.com/auth/earthengine%20https%3A//www.googleapis.com/auth/cloud-platform%20https%3A//www.googleapis.com/auth/devstorage.full_control&request_id=_e6-ZlbwISBsdKGQRtHko1N_j8bbmDQQKkQUwVP23GY&tc=dzcw7qy61JKh_O3E5BIztodknny0TzHYcLPlKSBk-84&cc=7NMcMoYpt-B8u6S_z9cJvOPNHGGKbP6JeoTvvhcA2jE</a></p>\n",
       "        <p>The authorization workflow will generate a code, which you should paste in the box below.</p>\n",
       "        "
      ],
      "text/plain": [
       "<IPython.core.display.HTML object>"
      ]
     },
     "metadata": {},
     "output_type": "display_data"
    },
    {
     "name": "stdout",
     "output_type": "stream",
     "text": [
      "\n",
      "Successfully saved authorization token.\n"
     ]
    }
   ],
   "source": [
    "# Initialize earth engine (If it's the first time, you need to authenticate)\n",
    "ee.Authenticate()"
   ]
  },
  {
   "cell_type": "markdown",
   "metadata": {},
   "source": [
    "## Multiannual Per Month"
   ]
  },
  {
   "cell_type": "code",
   "execution_count": 50,
   "metadata": {},
   "outputs": [
    {
     "data": {
      "text/html": [
       "\n",
       "            <style>\n",
       "                .geemap-dark {\n",
       "                    --jp-widgets-color: white;\n",
       "                    --jp-widgets-label-color: white;\n",
       "                    --jp-ui-font-color1: white;\n",
       "                    --jp-layout-color2: #454545;\n",
       "                    background-color: #383838;\n",
       "                }\n",
       "\n",
       "                .geemap-dark .jupyter-button {\n",
       "                    --jp-layout-color3: #383838;\n",
       "                }\n",
       "\n",
       "                .geemap-colab {\n",
       "                    background-color: var(--colab-primary-surface-color, white);\n",
       "                }\n",
       "\n",
       "                .geemap-colab .jupyter-button {\n",
       "                    --jp-layout-color3: var(--colab-primary-surface-color, white);\n",
       "                }\n",
       "            </style>\n",
       "            "
      ],
      "text/plain": [
       "<IPython.core.display.HTML object>"
      ]
     },
     "metadata": {},
     "output_type": "display_data"
    },
    {
     "name": "stdout",
     "output_type": "stream",
     "text": [
      "Number of images in the Monthly collection: 12\n"
     ]
    }
   ],
   "source": [
    "# Define the CHIRPS ImageCollection for pentads from 1990 to 2023\n",
    "chirps_collection = ee.ImageCollection(\"UCSB-CHG/CHIRPS/PENTAD\")\\\n",
    "    .filterDate('1990-01-01', '2023-12-31').select('precipitation')\n",
    "\n",
    "# Function to calculate the sum of pentads for a given month across all years\n",
    "def sum_pentads_by_month(month):\n",
    "    # Filter the collection by the specified month\n",
    "    monthly_collection = chirps_collection.filter(ee.Filter.calendarRange(month, month, 'month'))\n",
    "    \n",
    "    # Sum the pentads for the given month across all years\n",
    "    monthly_sum = monthly_collection.sum().set('month', month)\n",
    "    # Calculate the mean and median as individual images\n",
    "    monthly_mean = monthly_sum.mean().set('month', month, 'stat', 'mean')\n",
    "    monthly_median = monthly_sum.median().set('month', month, 'stat', 'median')\n",
    "    return monthly_sum,monthly_mean,monthly_median\n",
    "\n",
    "\n",
    "# List of months to process (1 to 12)\n",
    "months = ee.List.sequence(1, 12)\n",
    "\n",
    "# Map the sum_pentads_by_month function over the list of months to calculate monthly sums\n",
    "monthly_sums = ee.ImageCollection(months.map(sum_pentads_by_month))\n",
    "print(f\"Number of images in the Monthly collection: {monthly_sums.size().getInfo()}\")\n",
    "\n"
   ]
  },
  {
   "cell_type": "code",
   "execution_count": 86,
   "metadata": {},
   "outputs": [
    {
     "data": {
      "text/html": [
       "\n",
       "            <style>\n",
       "                .geemap-dark {\n",
       "                    --jp-widgets-color: white;\n",
       "                    --jp-widgets-label-color: white;\n",
       "                    --jp-ui-font-color1: white;\n",
       "                    --jp-layout-color2: #454545;\n",
       "                    background-color: #383838;\n",
       "                }\n",
       "\n",
       "                .geemap-dark .jupyter-button {\n",
       "                    --jp-layout-color3: #383838;\n",
       "                }\n",
       "\n",
       "                .geemap-colab {\n",
       "                    background-color: var(--colab-primary-surface-color, white);\n",
       "                }\n",
       "\n",
       "                .geemap-colab .jupyter-button {\n",
       "                    --jp-layout-color3: var(--colab-primary-surface-color, white);\n",
       "                }\n",
       "            </style>\n",
       "            "
      ],
      "text/plain": [
       "<IPython.core.display.HTML object>"
      ]
     },
     "metadata": {},
     "output_type": "display_data"
    },
    {
     "ename": "EEException",
     "evalue": "List.get, argument 'list': Invalid type.\nExpected type: List<Object>.\nActual type: Float.\nActual value: 1990.0",
     "output_type": "error",
     "traceback": [
      "\u001b[1;31m---------------------------------------------------------------------------\u001b[0m",
      "\u001b[1;31mHttpError\u001b[0m                                 Traceback (most recent call last)",
      "File \u001b[1;32mc:\\Users\\alexa\\anaconda3\\envs\\gee\\Lib\\site-packages\\ee\\data.py:406\u001b[0m, in \u001b[0;36m_execute_cloud_call\u001b[1;34m(call, num_retries)\u001b[0m\n\u001b[0;32m    405\u001b[0m \u001b[38;5;28;01mtry\u001b[39;00m:\n\u001b[1;32m--> 406\u001b[0m   \u001b[38;5;28;01mreturn\u001b[39;00m \u001b[43mcall\u001b[49m\u001b[38;5;241;43m.\u001b[39;49m\u001b[43mexecute\u001b[49m\u001b[43m(\u001b[49m\u001b[43mnum_retries\u001b[49m\u001b[38;5;241;43m=\u001b[39;49m\u001b[43mnum_retries\u001b[49m\u001b[43m)\u001b[49m\n\u001b[0;32m    407\u001b[0m \u001b[38;5;28;01mexcept\u001b[39;00m googleapiclient\u001b[38;5;241m.\u001b[39merrors\u001b[38;5;241m.\u001b[39mHttpError \u001b[38;5;28;01mas\u001b[39;00m e:\n",
      "File \u001b[1;32mc:\\Users\\alexa\\anaconda3\\envs\\gee\\Lib\\site-packages\\googleapiclient\\_helpers.py:130\u001b[0m, in \u001b[0;36mpositional.<locals>.positional_decorator.<locals>.positional_wrapper\u001b[1;34m(*args, **kwargs)\u001b[0m\n\u001b[0;32m    129\u001b[0m         logger\u001b[38;5;241m.\u001b[39mwarning(message)\n\u001b[1;32m--> 130\u001b[0m \u001b[38;5;28;01mreturn\u001b[39;00m \u001b[43mwrapped\u001b[49m\u001b[43m(\u001b[49m\u001b[38;5;241;43m*\u001b[39;49m\u001b[43margs\u001b[49m\u001b[43m,\u001b[49m\u001b[43m \u001b[49m\u001b[38;5;241;43m*\u001b[39;49m\u001b[38;5;241;43m*\u001b[39;49m\u001b[43mkwargs\u001b[49m\u001b[43m)\u001b[49m\n",
      "File \u001b[1;32mc:\\Users\\alexa\\anaconda3\\envs\\gee\\Lib\\site-packages\\googleapiclient\\http.py:938\u001b[0m, in \u001b[0;36mHttpRequest.execute\u001b[1;34m(self, http, num_retries)\u001b[0m\n\u001b[0;32m    937\u001b[0m \u001b[38;5;28;01mif\u001b[39;00m resp\u001b[38;5;241m.\u001b[39mstatus \u001b[38;5;241m>\u001b[39m\u001b[38;5;241m=\u001b[39m \u001b[38;5;241m300\u001b[39m:\n\u001b[1;32m--> 938\u001b[0m     \u001b[38;5;28;01mraise\u001b[39;00m HttpError(resp, content, uri\u001b[38;5;241m=\u001b[39m\u001b[38;5;28mself\u001b[39m\u001b[38;5;241m.\u001b[39muri)\n\u001b[0;32m    939\u001b[0m \u001b[38;5;28;01mreturn\u001b[39;00m \u001b[38;5;28mself\u001b[39m\u001b[38;5;241m.\u001b[39mpostproc(resp, content)\n",
      "\u001b[1;31mHttpError\u001b[0m: <HttpError 400 when requesting https://earthengine.googleapis.com/v1/projects/867269515190/value:compute?prettyPrint=false&alt=json returned \"List.get, argument 'list': Invalid type.\nExpected type: List<Object>.\nActual type: Float.\nActual value: 1990.0\". Details: \"List.get, argument 'list': Invalid type.\nExpected type: List<Object>.\nActual type: Float.\nActual value: 1990.0\">",
      "\nDuring handling of the above exception, another exception occurred:\n",
      "\u001b[1;31mEEException\u001b[0m                               Traceback (most recent call last)",
      "Cell \u001b[1;32mIn[86], line 28\u001b[0m\n\u001b[0;32m     25\u001b[0m intermediary_collection \u001b[38;5;241m=\u001b[39m ee\u001b[38;5;241m.\u001b[39mImageCollection(year_month_combinations\u001b[38;5;241m.\u001b[39mmap(\u001b[38;5;28;01mlambda\u001b[39;00m ym: sum_pentads_by_month_and_year(ee\u001b[38;5;241m.\u001b[39mNumber(ee\u001b[38;5;241m.\u001b[39mList(ym)\u001b[38;5;241m.\u001b[39mget(\u001b[38;5;241m0\u001b[39m)), ee\u001b[38;5;241m.\u001b[39mNumber(ee\u001b[38;5;241m.\u001b[39mList(ym)\u001b[38;5;241m.\u001b[39mget(\u001b[38;5;241m1\u001b[39m)))))\n\u001b[0;32m     27\u001b[0m \u001b[38;5;66;03m# Print the number of images in the intermediary collection\u001b[39;00m\n\u001b[1;32m---> 28\u001b[0m \u001b[38;5;28mprint\u001b[39m(\u001b[38;5;124mf\u001b[39m\u001b[38;5;124m\"\u001b[39m\u001b[38;5;124mNumber of images in the Intermediary Collection: \u001b[39m\u001b[38;5;132;01m{\u001b[39;00m\u001b[43mintermediary_collection\u001b[49m\u001b[38;5;241;43m.\u001b[39;49m\u001b[43msize\u001b[49m\u001b[43m(\u001b[49m\u001b[43m)\u001b[49m\u001b[38;5;241;43m.\u001b[39;49m\u001b[43mgetInfo\u001b[49m\u001b[43m(\u001b[49m\u001b[43m)\u001b[49m\u001b[38;5;132;01m}\u001b[39;00m\u001b[38;5;124m\"\u001b[39m)\n\u001b[0;32m     30\u001b[0m \u001b[38;5;66;03m# Define the region of interest (example: Colombia)\u001b[39;00m\n",
      "File \u001b[1;32mc:\\Users\\alexa\\anaconda3\\envs\\gee\\Lib\\site-packages\\ee\\computedobject.py:107\u001b[0m, in \u001b[0;36mComputedObject.getInfo\u001b[1;34m(self)\u001b[0m\n\u001b[0;32m    101\u001b[0m \u001b[38;5;28;01mdef\u001b[39;00m \u001b[38;5;21mgetInfo\u001b[39m(\u001b[38;5;28mself\u001b[39m) \u001b[38;5;241m-\u001b[39m\u001b[38;5;241m>\u001b[39m Optional[Any]:\n\u001b[0;32m    102\u001b[0m \u001b[38;5;250m  \u001b[39m\u001b[38;5;124;03m\"\"\"Fetch and return information about this object.\u001b[39;00m\n\u001b[0;32m    103\u001b[0m \n\u001b[0;32m    104\u001b[0m \u001b[38;5;124;03m  Returns:\u001b[39;00m\n\u001b[0;32m    105\u001b[0m \u001b[38;5;124;03m    The object can evaluate to anything.\u001b[39;00m\n\u001b[0;32m    106\u001b[0m \u001b[38;5;124;03m  \"\"\"\u001b[39;00m\n\u001b[1;32m--> 107\u001b[0m   \u001b[38;5;28;01mreturn\u001b[39;00m \u001b[43mdata\u001b[49m\u001b[38;5;241;43m.\u001b[39;49m\u001b[43mcomputeValue\u001b[49m\u001b[43m(\u001b[49m\u001b[38;5;28;43mself\u001b[39;49m\u001b[43m)\u001b[49m\n",
      "File \u001b[1;32mc:\\Users\\alexa\\anaconda3\\envs\\gee\\Lib\\site-packages\\ee\\data.py:1126\u001b[0m, in \u001b[0;36mcomputeValue\u001b[1;34m(obj)\u001b[0m\n\u001b[0;32m   1123\u001b[0m body \u001b[38;5;241m=\u001b[39m {\u001b[38;5;124m'\u001b[39m\u001b[38;5;124mexpression\u001b[39m\u001b[38;5;124m'\u001b[39m: serializer\u001b[38;5;241m.\u001b[39mencode(obj, for_cloud_api\u001b[38;5;241m=\u001b[39m\u001b[38;5;28;01mTrue\u001b[39;00m)}\n\u001b[0;32m   1124\u001b[0m _maybe_populate_workload_tag(body)\n\u001b[1;32m-> 1126\u001b[0m \u001b[38;5;28;01mreturn\u001b[39;00m \u001b[43m_execute_cloud_call\u001b[49m\u001b[43m(\u001b[49m\n\u001b[0;32m   1127\u001b[0m \u001b[43m    \u001b[49m\u001b[43m_get_cloud_projects\u001b[49m\u001b[43m(\u001b[49m\u001b[43m)\u001b[49m\n\u001b[0;32m   1128\u001b[0m \u001b[43m    \u001b[49m\u001b[38;5;241;43m.\u001b[39;49m\u001b[43mvalue\u001b[49m\u001b[43m(\u001b[49m\u001b[43m)\u001b[49m\n\u001b[0;32m   1129\u001b[0m \u001b[43m    \u001b[49m\u001b[38;5;241;43m.\u001b[39;49m\u001b[43mcompute\u001b[49m\u001b[43m(\u001b[49m\u001b[43mbody\u001b[49m\u001b[38;5;241;43m=\u001b[39;49m\u001b[43mbody\u001b[49m\u001b[43m,\u001b[49m\u001b[43m \u001b[49m\u001b[43mproject\u001b[49m\u001b[38;5;241;43m=\u001b[39;49m\u001b[43m_get_projects_path\u001b[49m\u001b[43m(\u001b[49m\u001b[43m)\u001b[49m\u001b[43m,\u001b[49m\u001b[43m \u001b[49m\u001b[43mprettyPrint\u001b[49m\u001b[38;5;241;43m=\u001b[39;49m\u001b[38;5;28;43;01mFalse\u001b[39;49;00m\u001b[43m)\u001b[49m\n\u001b[0;32m   1130\u001b[0m \u001b[43m\u001b[49m\u001b[43m)\u001b[49m[\u001b[38;5;124m'\u001b[39m\u001b[38;5;124mresult\u001b[39m\u001b[38;5;124m'\u001b[39m]\n",
      "File \u001b[1;32mc:\\Users\\alexa\\anaconda3\\envs\\gee\\Lib\\site-packages\\ee\\data.py:408\u001b[0m, in \u001b[0;36m_execute_cloud_call\u001b[1;34m(call, num_retries)\u001b[0m\n\u001b[0;32m    406\u001b[0m   \u001b[38;5;28;01mreturn\u001b[39;00m call\u001b[38;5;241m.\u001b[39mexecute(num_retries\u001b[38;5;241m=\u001b[39mnum_retries)\n\u001b[0;32m    407\u001b[0m \u001b[38;5;28;01mexcept\u001b[39;00m googleapiclient\u001b[38;5;241m.\u001b[39merrors\u001b[38;5;241m.\u001b[39mHttpError \u001b[38;5;28;01mas\u001b[39;00m e:\n\u001b[1;32m--> 408\u001b[0m   \u001b[38;5;28;01mraise\u001b[39;00m _translate_cloud_exception(e)\n",
      "\u001b[1;31mEEException\u001b[0m: List.get, argument 'list': Invalid type.\nExpected type: List<Object>.\nActual type: Float.\nActual value: 1990.0"
     ]
    }
   ],
   "source": [
    "# Define the CHIRPS ImageCollection for pentads from 1990 to 2023\n",
    "chirps_collection = ee.ImageCollection(\"UCSB-CHG/CHIRPS/PENTAD\")\\\n",
    "    .filterDate('1990-01-01', '2023-12-31').select('precipitation')\n",
    "\n",
    "# Function to sum the pentads for each month of each year\n",
    "def sum_pentads_by_month_and_year(year, month):\n",
    "    # Filter the collection by the specified year and month\n",
    "    monthly_collection = chirps_collection.filter(ee.Filter.calendarRange(year, year, 'year'))\\\n",
    "                                          .filter(ee.Filter.calendarRange(month, month, 'month'))\n",
    "    \n",
    "    # Sum the pentads for the given month of the specified year\n",
    "    monthly_sum = monthly_collection.sum().set('year', year, 'month', month)\n",
    "    return monthly_sum\n",
    "\n",
    "# List of years to process (1990 to 2023)\n",
    "years = ee.List.sequence(1990, 2023)\n",
    "\n",
    "# List of months to process (1 to 12)\n",
    "months = ee.List.sequence(1, 12)\n",
    "\n",
    "# Create a list of all year-month combinations\n",
    "year_month_combinations = years.map(lambda y: months.map(lambda m: ee.List([y, m]))).flatten()\n",
    "\n",
    "# Map the sum_pentads_by_month_and_year function over the list of year-month combinations\n",
    "intermediary_collection = ee.ImageCollection(year_month_combinations.map(lambda ym: sum_pentads_by_month_and_year(ee.Number(ee.List(ym).get(0)), ee.Number(ee.List(ym).get(1)))))\n",
    "\n",
    "# Print the number of images in the intermediary collection\n",
    "print(f\"Number of images in the Intermediary Collection: {intermediary_collection.size().getInfo()}\")\n",
    "\n",
    "# Define the region of interest (example: Colombia)"
   ]
  },
  {
   "cell_type": "code",
   "execution_count": 100,
   "metadata": {},
   "outputs": [
    {
     "data": {
      "text/html": [
       "\n",
       "            <style>\n",
       "                .geemap-dark {\n",
       "                    --jp-widgets-color: white;\n",
       "                    --jp-widgets-label-color: white;\n",
       "                    --jp-ui-font-color1: white;\n",
       "                    --jp-layout-color2: #454545;\n",
       "                    background-color: #383838;\n",
       "                }\n",
       "\n",
       "                .geemap-dark .jupyter-button {\n",
       "                    --jp-layout-color3: #383838;\n",
       "                }\n",
       "\n",
       "                .geemap-colab {\n",
       "                    background-color: var(--colab-primary-surface-color, white);\n",
       "                }\n",
       "\n",
       "                .geemap-colab .jupyter-button {\n",
       "                    --jp-layout-color3: var(--colab-primary-surface-color, white);\n",
       "                }\n",
       "            </style>\n",
       "            "
      ],
      "text/plain": [
       "<IPython.core.display.HTML object>"
      ]
     },
     "metadata": {},
     "output_type": "display_data"
    },
    {
     "name": "stdout",
     "output_type": "stream",
     "text": [
      "Export of monthly summed images to Google Drive started.\n"
     ]
    }
   ],
   "source": [
    "# Define the CHIRPS ImageCollection for pentads from 1990 to 2023\n",
    "chirps_collection = ee.ImageCollection(\"UCSB-CHG/CHIRPS/PENTAD\")\\\n",
    "    .filterDate('1990-01-01', '2023-12-31').select('precipitation')\n",
    "\n",
    "# Function to sum the pentads for each month of each year\n",
    "def sum_pentads_by_month_and_year(year, month):\n",
    "    # Filter the collection by the specified year and month\n",
    "    monthly_collection = chirps_collection.filter(ee.Filter.calendarRange(year, year, 'year'))\\\n",
    "                                          .filter(ee.Filter.calendarRange(month, month, 'month'))\n",
    "    \n",
    "    # Sum the pentads for the given month of the specified year\n",
    "    monthly_sum = monthly_collection.sum().set('year', year, 'month', month)\n",
    "    return monthly_sum\n",
    "\n",
    "# List of years to process (1990 to 2023)\n",
    "years = ee.List.sequence(1990, 2023)\n",
    "\n",
    "# List of months to process (1 to 12)\n",
    "months = ee.List.sequence(1, 12)\n",
    "\n",
    "# Create a list of all year-month combinations\n",
    "year_month_combinations = years.map(lambda y: months.map(lambda m: ee.List([y, m]))).flatten()\n",
    "\n",
    "# Map the sum_pentads_by_month_and_year function over the list of year-month combinations\n",
    "intermediary_collection = ee.ImageCollection(year_month_combinations.map(lambda ym: sum_pentads_by_month_and_year(ee.Number(ee.List(ym).get(0)), ee.Number(ee.List(ym).get(1)))))\n",
    "\n",
    "# Define the region of interest (example: Colombia)\n",
    "region = ee.Geometry.Polygon(\n",
    "    [[[-79.0, 12.5], [-79.0, -4.5], [-66.5, -4.5], [-66.5, 12.5], [-79.0, 12.5]]]\n",
    ")\n",
    "\n",
    "\n",
    "# Function to export each monthly summed image\n",
    "def export_monthly_images(image, year, month):\n",
    "    description = f'Pentad_Sum_{year}_{month}'\n",
    "    \n",
    "    task = ee.batch.Export.image.toDrive(**{\n",
    "        'image': image,\n",
    "        'description': description,\n",
    "        'folder': 'CHIRPS_Pentad_Sum',\n",
    "        'scale': 5000,\n",
    "        'region': region,\n",
    "        'maxPixels': 1e13\n",
    "    })\n",
    "    task.start()\n",
    "\n",
    "# Loop through each year and month, sum the pentads, and export the image\n",
    "for year in range(1990, 2024):\n",
    "    for month in range(1, 13):\n",
    "        image = sum_pentads_by_month_and_year(year, month)\n",
    "        export_monthly_images(image, year, month)\n",
    "\n",
    "print(\"Export of monthly summed images to Google Drive started.\")"
   ]
  },
  {
   "cell_type": "markdown",
   "metadata": {},
   "source": [
    "# Org.in subfolder\n"
   ]
  },
  {
   "cell_type": "code",
   "execution_count": 101,
   "metadata": {},
   "outputs": [
    {
     "data": {
      "text/html": [
       "\n",
       "            <style>\n",
       "                .geemap-dark {\n",
       "                    --jp-widgets-color: white;\n",
       "                    --jp-widgets-label-color: white;\n",
       "                    --jp-ui-font-color1: white;\n",
       "                    --jp-layout-color2: #454545;\n",
       "                    background-color: #383838;\n",
       "                }\n",
       "\n",
       "                .geemap-dark .jupyter-button {\n",
       "                    --jp-layout-color3: #383838;\n",
       "                }\n",
       "\n",
       "                .geemap-colab {\n",
       "                    background-color: var(--colab-primary-surface-color, white);\n",
       "                }\n",
       "\n",
       "                .geemap-colab .jupyter-button {\n",
       "                    --jp-layout-color3: var(--colab-primary-surface-color, white);\n",
       "                }\n",
       "            </style>\n",
       "            "
      ],
      "text/plain": [
       "<IPython.core.display.HTML object>"
      ]
     },
     "metadata": {},
     "output_type": "display_data"
    },
    {
     "name": "stdout",
     "output_type": "stream",
     "text": [
      "Files have been organized into month folders.\n"
     ]
    }
   ],
   "source": [
    "import os\n",
    "import shutil\n",
    "\n",
    "# Define the source directory containing the raster files\n",
    "source_dir = r'C:\\Users\\alexa\\Desktop\\CHIRPS_Pentad_Sum-20241005T011936Z-001\\CHIRPS_Pentad_Sum'\n",
    "\n",
    "# Define the target directories for each month\n",
    "months = {\n",
    "    '1': 'january',\n",
    "    '2': 'february',\n",
    "    '3': 'march',\n",
    "    '4': 'april',\n",
    "    '5': 'may',\n",
    "    '6': 'june',\n",
    "    '7': 'july',\n",
    "    '8': 'august',\n",
    "    '9': 'september',\n",
    "    '10': 'october',\n",
    "    '11': 'november',\n",
    "    '12': 'december'\n",
    "}\n",
    "\n",
    "# Create target directories if they don't exist\n",
    "for month in months.values():\n",
    "    os.makedirs(os.path.join(source_dir, month), exist_ok=True)\n",
    "\n",
    "# Move files to the corresponding month folder\n",
    "for filename in os.listdir(source_dir):\n",
    "    if filename.startswith('Pentad_Sum_'):\n",
    "        parts = filename.split('_')\n",
    "        if len(parts) == 4:\n",
    "            month = parts[3].split('.')[0]  # Extract the month part\n",
    "            if month in months:\n",
    "                target_dir = os.path.join(source_dir, months[month])\n",
    "                shutil.move(os.path.join(source_dir, filename), os.path.join(target_dir, filename))\n",
    "\n",
    "print(\"Files have been organized into month folders.\")"
   ]
  },
  {
   "cell_type": "code",
   "execution_count": 107,
   "metadata": {},
   "outputs": [
    {
     "data": {
      "text/html": [
       "\n",
       "            <style>\n",
       "                .geemap-dark {\n",
       "                    --jp-widgets-color: white;\n",
       "                    --jp-widgets-label-color: white;\n",
       "                    --jp-ui-font-color1: white;\n",
       "                    --jp-layout-color2: #454545;\n",
       "                    background-color: #383838;\n",
       "                }\n",
       "\n",
       "                .geemap-dark .jupyter-button {\n",
       "                    --jp-layout-color3: #383838;\n",
       "                }\n",
       "\n",
       "                .geemap-colab {\n",
       "                    background-color: var(--colab-primary-surface-color, white);\n",
       "                }\n",
       "\n",
       "                .geemap-colab .jupyter-button {\n",
       "                    --jp-layout-color3: var(--colab-primary-surface-color, white);\n",
       "                }\n",
       "            </style>\n",
       "            "
      ],
      "text/plain": [
       "<IPython.core.display.HTML object>"
      ]
     },
     "metadata": {},
     "output_type": "display_data"
    },
    {
     "name": "stdout",
     "output_type": "stream",
     "text": [
      "Mean raster created for january and saved to C:\\Users\\alexa\\Desktop\\CHIRPS_Pentad_Sum-20241005T011936Z-001\\CHIRPS_Pentad_Sum\\january\\Pentad_Sum_january_mean.tif\n",
      "Mean raster created for february and saved to C:\\Users\\alexa\\Desktop\\CHIRPS_Pentad_Sum-20241005T011936Z-001\\CHIRPS_Pentad_Sum\\february\\Pentad_Sum_february_mean.tif\n",
      "Mean raster created for march and saved to C:\\Users\\alexa\\Desktop\\CHIRPS_Pentad_Sum-20241005T011936Z-001\\CHIRPS_Pentad_Sum\\march\\Pentad_Sum_march_mean.tif\n",
      "Mean raster created for april and saved to C:\\Users\\alexa\\Desktop\\CHIRPS_Pentad_Sum-20241005T011936Z-001\\CHIRPS_Pentad_Sum\\april\\Pentad_Sum_april_mean.tif\n",
      "Mean raster created for may and saved to C:\\Users\\alexa\\Desktop\\CHIRPS_Pentad_Sum-20241005T011936Z-001\\CHIRPS_Pentad_Sum\\may\\Pentad_Sum_may_mean.tif\n",
      "Mean raster created for june and saved to C:\\Users\\alexa\\Desktop\\CHIRPS_Pentad_Sum-20241005T011936Z-001\\CHIRPS_Pentad_Sum\\june\\Pentad_Sum_june_mean.tif\n",
      "Mean raster created for july and saved to C:\\Users\\alexa\\Desktop\\CHIRPS_Pentad_Sum-20241005T011936Z-001\\CHIRPS_Pentad_Sum\\july\\Pentad_Sum_july_mean.tif\n",
      "Mean raster created for august and saved to C:\\Users\\alexa\\Desktop\\CHIRPS_Pentad_Sum-20241005T011936Z-001\\CHIRPS_Pentad_Sum\\august\\Pentad_Sum_august_mean.tif\n",
      "Mean raster created for september and saved to C:\\Users\\alexa\\Desktop\\CHIRPS_Pentad_Sum-20241005T011936Z-001\\CHIRPS_Pentad_Sum\\september\\Pentad_Sum_september_mean.tif\n",
      "Mean raster created for october and saved to C:\\Users\\alexa\\Desktop\\CHIRPS_Pentad_Sum-20241005T011936Z-001\\CHIRPS_Pentad_Sum\\october\\Pentad_Sum_october_mean.tif\n",
      "Mean raster created for november and saved to C:\\Users\\alexa\\Desktop\\CHIRPS_Pentad_Sum-20241005T011936Z-001\\CHIRPS_Pentad_Sum\\november\\Pentad_Sum_november_mean.tif\n",
      "Mean raster created for december and saved to C:\\Users\\alexa\\Desktop\\CHIRPS_Pentad_Sum-20241005T011936Z-001\\CHIRPS_Pentad_Sum\\december\\Pentad_Sum_december_mean.tif\n",
      "Calculation and export of mean rasters completed.\n"
     ]
    }
   ],
   "source": [
    "import os\n",
    "import numpy as np\n",
    "import rasterio\n",
    "from rasterio.transform import from_origin\n",
    "\n",
    "# Define the source directory containing the month subfolders\n",
    "source_dir = r'C:\\Users\\alexa\\Desktop\\CHIRPS_Pentad_Sum-20241005T011936Z-001\\CHIRPS_Pentad_Sum'\n",
    "\n",
    "# Define the target directories for each month\n",
    "months = {\n",
    "    '1': 'january',\n",
    "    '2': 'february',\n",
    "    '3': 'march',\n",
    "    '4': 'april',\n",
    "    '5': 'may',\n",
    "    '6': 'june',\n",
    "    '7': 'july',\n",
    "    '8': 'august',\n",
    "    '9': 'september',\n",
    "    '10': 'october',\n",
    "    '11': 'november',\n",
    "    '12': 'december'\n",
    "}\n",
    "\n",
    "# Function to stack rasters and calculate the mean\n",
    "def calculate_mean_stack(raster_paths):\n",
    "    stack = []\n",
    "    for raster_path in raster_paths:\n",
    "        with rasterio.open(raster_path) as src:\n",
    "            data = src.read(1)  # Read the first band\n",
    "            data = np.where(data == src.nodata, np.nan, data)  # Replace nodata values with NaN\n",
    "            stack.append(data)\n",
    "    stack = np.array(stack)\n",
    "    mean_stack = np.nanmean(stack, axis=0)  # Calculate mean ignoring NaN values\n",
    "    return mean_stack\n",
    "\n",
    "# Function to create a new raster from an array\n",
    "def create_raster_from_array(src_path, array, output_path):\n",
    "    with rasterio.open(src_path) as src:\n",
    "        meta = src.meta.copy()\n",
    "        meta.update(dtype=rasterio.float32, count=1, compress='lzw')\n",
    "        \n",
    "        with rasterio.open(output_path, 'w', **meta) as dst:\n",
    "            dst.write(array, 1)\n",
    "\n",
    "# Loop through each month folder, calculate the mean stack, and export the mean raster\n",
    "for month_num, month_name in months.items():\n",
    "    month_dir = os.path.join(source_dir, month_name)\n",
    "    if os.path.exists(month_dir):\n",
    "        raster_paths = [os.path.join(month_dir, f) for f in os.listdir(month_dir) if f.endswith('.tif')]\n",
    "        if raster_paths:\n",
    "            mean_stack = calculate_mean_stack(raster_paths)\n",
    "            \n",
    "            # Define output path for the mean raster\n",
    "            mean_output_path = os.path.join(month_dir, f'Pentad_Sum_{month_name}_mean.tif')\n",
    "            \n",
    "            # Create and save the mean raster\n",
    "            create_raster_from_array(raster_paths[0], mean_stack, mean_output_path)\n",
    "            \n",
    "            print(f\"Mean raster created for {month_name} and saved to {mean_output_path}\")\n",
    "\n",
    "print(\"Calculation and export of mean rasters completed.\")"
   ]
  },
  {
   "cell_type": "code",
   "execution_count": 32,
   "metadata": {},
   "outputs": [
    {
     "data": {
      "text/html": [
       "\n",
       "            <style>\n",
       "                .geemap-dark {\n",
       "                    --jp-widgets-color: white;\n",
       "                    --jp-widgets-label-color: white;\n",
       "                    --jp-ui-font-color1: white;\n",
       "                    --jp-layout-color2: #454545;\n",
       "                    background-color: #383838;\n",
       "                }\n",
       "\n",
       "                .geemap-dark .jupyter-button {\n",
       "                    --jp-layout-color3: #383838;\n",
       "                }\n",
       "\n",
       "                .geemap-colab {\n",
       "                    background-color: var(--colab-primary-surface-color, white);\n",
       "                }\n",
       "\n",
       "                .geemap-colab .jupyter-button {\n",
       "                    --jp-layout-color3: var(--colab-primary-surface-color, white);\n",
       "                }\n",
       "            </style>\n",
       "            "
      ],
      "text/plain": [
       "<IPython.core.display.HTML object>"
      ]
     },
     "metadata": {},
     "output_type": "display_data"
    },
    {
     "name": "stdout",
     "output_type": "stream",
     "text": [
      "Export task started. Check the Earth Engine Code Editor 'Tasks' tab for progress.\n"
     ]
    }
   ],
   "source": [
    "# Define the TerraClimate dataset\n",
    "dataset = ee.ImageCollection('IDAHO_EPSCOR/TERRACLIMATE')\n",
    "\n",
    "# Filter for temperature (mean) from 1990 to 2023\n",
    "temperature_collection = dataset.filterDate('1990-01-01', '2023-12-31').select('tmmx')\n",
    "\n",
    "# Define the region of interest (Colombia)\n",
    "colombia = ee.FeatureCollection('USDOS/LSIB_SIMPLE/2017')\\\n",
    "    .filter(ee.Filter.eq('country_na', 'Colombia'))\n",
    "\n",
    "# Create a single image by taking the mean of the temperature collection\n",
    "temperature_mean = temperature_collection.mean()\n",
    "\n",
    "# Define export parameters\n",
    "export_params = {\n",
    "    'image': temperature_mean,\n",
    "    'description': 'Colombia_Temperature_MAX_1990_2023',\n",
    "    'folder': 'EarthEngineExports',\n",
    "    'scale': 5000,\n",
    "    'region': colombia.geometry().bounds(),\n",
    "    'maxPixels': 1e13\n",
    "}\n",
    "\n",
    "# Export the image to Google Drive\n",
    "task = ee.batch.Export.image.toDrive(**export_params)\n",
    "task.start()\n",
    "\n",
    "print(\"Export task started. Check the Earth Engine Code Editor 'Tasks' tab for progress.\")\n",
    "\n"
   ]
  },
  {
   "cell_type": "code",
   "execution_count": 33,
   "metadata": {},
   "outputs": [
    {
     "data": {
      "text/html": [
       "\n",
       "            <style>\n",
       "                .geemap-dark {\n",
       "                    --jp-widgets-color: white;\n",
       "                    --jp-widgets-label-color: white;\n",
       "                    --jp-ui-font-color1: white;\n",
       "                    --jp-layout-color2: #454545;\n",
       "                    background-color: #383838;\n",
       "                }\n",
       "\n",
       "                .geemap-dark .jupyter-button {\n",
       "                    --jp-layout-color3: #383838;\n",
       "                }\n",
       "\n",
       "                .geemap-colab {\n",
       "                    background-color: var(--colab-primary-surface-color, white);\n",
       "                }\n",
       "\n",
       "                .geemap-colab .jupyter-button {\n",
       "                    --jp-layout-color3: var(--colab-primary-surface-color, white);\n",
       "                }\n",
       "            </style>\n",
       "            "
      ],
      "text/plain": [
       "<IPython.core.display.HTML object>"
      ]
     },
     "metadata": {},
     "output_type": "display_data"
    },
    {
     "name": "stdout",
     "output_type": "stream",
     "text": [
      "Export task started. Check the Earth Engine Code Editor 'Tasks' tab for progress.\n"
     ]
    }
   ],
   "source": [
    "# Define the TerraClimate dataset\n",
    "dataset = ee.ImageCollection('IDAHO_EPSCOR/TERRACLIMATE')\n",
    "\n",
    "# Filter for precipitation from 1990 to 2023\n",
    "precipitation_collection = dataset.filterDate('1990-01-01', '2023-12-31').select('pr')\n",
    "\n",
    "# Define the region of interest (Colombia)\n",
    "colombia = ee.FeatureCollection('USDOS/LSIB_SIMPLE/2017')\\\n",
    "    .filter(ee.Filter.eq('country_na', 'Colombia'))\n",
    "\n",
    "# Create a single image by taking the mean of the precipitation collection\n",
    "precipitation_mean = precipitation_collection.mean()\n",
    "\n",
    "# Define export parameters\n",
    "export_params = {\n",
    "    'image': precipitation_mean,\n",
    "    'description': 'Colombia_Precipitation_Mean_1990_2023',\n",
    "    'folder': 'EarthEngineExports',\n",
    "    'scale': 5000,\n",
    "    'region': colombia.geometry().bounds(),\n",
    "    'maxPixels': 1e13\n",
    "}\n",
    "\n",
    "# Export the image to Google Drive\n",
    "task = ee.batch.Export.image.toDrive(**export_params)\n",
    "task.start()\n",
    "\n",
    "print(\"Export task started. Check the Earth Engine Code Editor 'Tasks' tab for progress.\")"
   ]
  },
  {
   "cell_type": "code",
   "execution_count": null,
   "metadata": {},
   "outputs": [],
   "source": []
  },
  {
   "cell_type": "code",
   "execution_count": null,
   "metadata": {},
   "outputs": [],
   "source": [
    "# Clip the temperature data to the region of Colombia\n",
    "temperature_colombia = temperature_collection.mean().clip(colombia)\n",
    "\n",
    "# Set export parameters\n",
    "export_params = {\n",
    "    'scale': 5000,  # resolution in meters\n",
    "    'region': colombia.geometry()\n",
    "}\n",
    "\n",
    "# Export the image to Google Drive\n",
    "ee_export_image(temperature_colombia,filename='Colombia_Temperature_1990to2023',**export_params)\n"
   ]
  },
  {
   "cell_type": "code",
   "execution_count": 26,
   "metadata": {},
   "outputs": [
    {
     "data": {
      "text/html": [
       "\n",
       "            <style>\n",
       "                .geemap-dark {\n",
       "                    --jp-widgets-color: white;\n",
       "                    --jp-widgets-label-color: white;\n",
       "                    --jp-ui-font-color1: white;\n",
       "                    --jp-layout-color2: #454545;\n",
       "                    background-color: #383838;\n",
       "                }\n",
       "\n",
       "                .geemap-dark .jupyter-button {\n",
       "                    --jp-layout-color3: #383838;\n",
       "                }\n",
       "\n",
       "                .geemap-colab {\n",
       "                    background-color: var(--colab-primary-surface-color, white);\n",
       "                }\n",
       "\n",
       "                .geemap-colab .jupyter-button {\n",
       "                    --jp-layout-color3: var(--colab-primary-surface-color, white);\n",
       "                }\n",
       "            </style>\n",
       "            "
      ],
      "text/plain": [
       "<IPython.core.display.HTML object>"
      ]
     },
     "metadata": {},
     "output_type": "display_data"
    }
   ],
   "source": [
    "# Path to the GeoPackage\n",
    "gpk_path = r\"C:\\Users\\alexa\\Documents\\PERSONAL PROJECTS\\Colombia Cartography\\Administrativo\\Colombia_Admin.gpkg\"\n",
    "\n",
    "# Layer name within the GeoPackage\n",
    "layer_name = 'Colombia_Admin_Level0'\n",
    "\n",
    "# Read the layer from the GeoPackage\n",
    "colombia_admin0 = gpd.read_file(gpk_path, layer=layer_name)\n",
    "\n",
    "# Reproject to WGS84\n",
    "colombia_admin0 = colombia_admin0.to_crs(epsg=4326)\n"
   ]
  },
  {
   "cell_type": "code",
   "execution_count": 6,
   "metadata": {},
   "outputs": [
    {
     "data": {
      "text/html": [
       "\n",
       "            <style>\n",
       "                .geemap-dark {\n",
       "                    --jp-widgets-color: white;\n",
       "                    --jp-widgets-label-color: white;\n",
       "                    --jp-ui-font-color1: white;\n",
       "                    --jp-layout-color2: #454545;\n",
       "                    background-color: #383838;\n",
       "                }\n",
       "\n",
       "                .geemap-dark .jupyter-button {\n",
       "                    --jp-layout-color3: #383838;\n",
       "                }\n",
       "\n",
       "                .geemap-colab {\n",
       "                    background-color: var(--colab-primary-surface-color, white);\n",
       "                }\n",
       "\n",
       "                .geemap-colab .jupyter-button {\n",
       "                    --jp-layout-color3: var(--colab-primary-surface-color, white);\n",
       "                }\n",
       "            </style>\n",
       "            "
      ],
      "text/plain": [
       "<IPython.core.display.HTML object>"
      ]
     },
     "metadata": {},
     "output_type": "display_data"
    }
   ],
   "source": [
    "import geopandas as gpd\n",
    "import rasterio\n",
    "from rasterio import features\n",
    "import numpy as np\n",
    "import pandas as pd"
   ]
  },
  {
   "cell_type": "code",
   "execution_count": 19,
   "metadata": {},
   "outputs": [
    {
     "data": {
      "text/html": [
       "\n",
       "            <style>\n",
       "                .geemap-dark {\n",
       "                    --jp-widgets-color: white;\n",
       "                    --jp-widgets-label-color: white;\n",
       "                    --jp-ui-font-color1: white;\n",
       "                    --jp-layout-color2: #454545;\n",
       "                    background-color: #383838;\n",
       "                }\n",
       "\n",
       "                .geemap-dark .jupyter-button {\n",
       "                    --jp-layout-color3: #383838;\n",
       "                }\n",
       "\n",
       "                .geemap-colab {\n",
       "                    background-color: var(--colab-primary-surface-color, white);\n",
       "                }\n",
       "\n",
       "                .geemap-colab .jupyter-button {\n",
       "                    --jp-layout-color3: var(--colab-primary-surface-color, white);\n",
       "                }\n",
       "            </style>\n",
       "            "
      ],
      "text/plain": [
       "<IPython.core.display.HTML object>"
      ]
     },
     "metadata": {},
     "output_type": "display_data"
    }
   ],
   "source": [
    "# Load Colombia boundary shapefile\n",
    "colombia_boundary =colombia_admin0\n",
    "temperature_path=r\"C:\\Users\\alexa\\Desktop\\Temperature_Colombia.tif\"\n",
    "precipitation_path=r\"C:\\Users\\alexa\\Desktop\\Precipitation_Colombia.tif\"\n",
    "# Load temperature and precipitation rasters\n",
    "with rasterio.open(temperature_path) as temp_src, rasterio.open(precipitation_path) as ppt_src:\n",
    "    # Reproject both rasters to match the Colombia boundary CRS\n",
    "    temp_data = temp_src.read(1)\n",
    "    ppt_data = ppt_src.read(1)\n",
    "    temp_transform = temp_src.transform\n",
    "    ppt_transform = ppt_src.transform\n",
    "\n",
    "    # Ensure both rasters have the same CRS as the Colombia boundary\n",
    "    if temp_src.crs != colombia_boundary.crs:\n",
    "        colombia_boundary = colombia_boundary.to_crs(temp_src.crs)\n",
    "\n"
   ]
  },
  {
   "cell_type": "code",
   "execution_count": 8,
   "metadata": {},
   "outputs": [
    {
     "data": {
      "text/html": [
       "\n",
       "            <style>\n",
       "                .geemap-dark {\n",
       "                    --jp-widgets-color: white;\n",
       "                    --jp-widgets-label-color: white;\n",
       "                    --jp-ui-font-color1: white;\n",
       "                    --jp-layout-color2: #454545;\n",
       "                    background-color: #383838;\n",
       "                }\n",
       "\n",
       "                .geemap-dark .jupyter-button {\n",
       "                    --jp-layout-color3: #383838;\n",
       "                }\n",
       "\n",
       "                .geemap-colab {\n",
       "                    background-color: var(--colab-primary-surface-color, white);\n",
       "                }\n",
       "\n",
       "                .geemap-colab .jupyter-button {\n",
       "                    --jp-layout-color3: var(--colab-primary-surface-color, white);\n",
       "                }\n",
       "            </style>\n",
       "            "
      ],
      "text/plain": [
       "<IPython.core.display.HTML object>"
      ]
     },
     "metadata": {},
     "output_type": "display_data"
    },
    {
     "data": {
      "text/html": [
       "<div>\n",
       "<style scoped>\n",
       "    .dataframe tbody tr th:only-of-type {\n",
       "        vertical-align: middle;\n",
       "    }\n",
       "\n",
       "    .dataframe tbody tr th {\n",
       "        vertical-align: top;\n",
       "    }\n",
       "\n",
       "    .dataframe thead th {\n",
       "        text-align: right;\n",
       "    }\n",
       "</style>\n",
       "<table border=\"1\" class=\"dataframe\">\n",
       "  <thead>\n",
       "    <tr style=\"text-align: right;\">\n",
       "      <th></th>\n",
       "      <th>x</th>\n",
       "      <th>y</th>\n",
       "      <th>temp</th>\n",
       "      <th>ppt</th>\n",
       "    </tr>\n",
       "  </thead>\n",
       "  <tbody>\n",
       "    <tr>\n",
       "      <th>56782</th>\n",
       "      <td>-75.301279</td>\n",
       "      <td>2.986898</td>\n",
       "      <td>27.274632</td>\n",
       "      <td>155.818627</td>\n",
       "    </tr>\n",
       "    <tr>\n",
       "      <th>40685</th>\n",
       "      <td>-70.674955</td>\n",
       "      <td>5.681844</td>\n",
       "      <td>27.447060</td>\n",
       "      <td>167.002451</td>\n",
       "    </tr>\n",
       "    <tr>\n",
       "      <th>17473</th>\n",
       "      <td>-70.315629</td>\n",
       "      <td>9.544600</td>\n",
       "      <td>NaN</td>\n",
       "      <td>NaN</td>\n",
       "    </tr>\n",
       "    <tr>\n",
       "      <th>31634</th>\n",
       "      <td>-77.008078</td>\n",
       "      <td>7.164064</td>\n",
       "      <td>28.131128</td>\n",
       "      <td>282.764706</td>\n",
       "    </tr>\n",
       "    <tr>\n",
       "      <th>45855</th>\n",
       "      <td>-68.878324</td>\n",
       "      <td>4.828445</td>\n",
       "      <td>27.935171</td>\n",
       "      <td>239.950980</td>\n",
       "    </tr>\n",
       "  </tbody>\n",
       "</table>\n",
       "</div>"
      ],
      "text/plain": [
       "               x         y       temp         ppt\n",
       "56782 -75.301279  2.986898  27.274632  155.818627\n",
       "40685 -70.674955  5.681844  27.447060  167.002451\n",
       "17473 -70.315629  9.544600        NaN         NaN\n",
       "31634 -77.008078  7.164064  28.131128  282.764706\n",
       "45855 -68.878324  4.828445  27.935171  239.950980"
      ]
     },
     "execution_count": 8,
     "metadata": {},
     "output_type": "execute_result"
    }
   ],
   "source": [
    "import numpy as np\n",
    "import pandas as pd\n",
    "import rasterio\n",
    "\n",
    "def raster_to_dataframe(raster_data, transform):\n",
    "    \"\"\"Convert raster data to a DataFrame with X, Y coordinates.\"\"\"\n",
    "    coords = []\n",
    "    values = []\n",
    "    for row in range(raster_data.shape[0]):\n",
    "        for col in range(raster_data.shape[1]):\n",
    "            x, y = rasterio.transform.xy(transform, row, col)\n",
    "            value = raster_data[row, col]\n",
    "            if np.isfinite(value):\n",
    "                coords.append((x, y))\n",
    "                values.append(value)\n",
    "    return pd.DataFrame(coords, columns=['x', 'y']), pd.Series(values)\n",
    "\n",
    "# Get coordinates and values for temperature and precipitation\n",
    "temp_coords_df, temp_values = raster_to_dataframe(temp_data, temp_transform)\n",
    "ppt_coords_df, ppt_values = raster_to_dataframe(ppt_data, ppt_transform)\n",
    "\n",
    "# Merge into a single DataFrame\n",
    "raster_df = pd.concat([temp_coords_df, temp_values.rename('temp'), ppt_values.rename('ppt')], axis=1)\n",
    "\n",
    "\n",
    "# Assuming raster_df is your DataFrame\n",
    "raster_df.loc[raster_df['temp'] < -3400, 'temp'] = np.nan\n",
    "\n",
    "# Set 'ppt' to NaN where 'temp' is NaN\n",
    "raster_df.loc[raster_df['temp'].isna(), 'ppt'] = np.nan\n",
    "\n",
    "raster_df.sample(5)"
   ]
  },
  {
   "cell_type": "code",
   "execution_count": 22,
   "metadata": {},
   "outputs": [
    {
     "data": {
      "text/html": [
       "\n",
       "            <style>\n",
       "                .geemap-dark {\n",
       "                    --jp-widgets-color: white;\n",
       "                    --jp-widgets-label-color: white;\n",
       "                    --jp-ui-font-color1: white;\n",
       "                    --jp-layout-color2: #454545;\n",
       "                    background-color: #383838;\n",
       "                }\n",
       "\n",
       "                .geemap-dark .jupyter-button {\n",
       "                    --jp-layout-color3: #383838;\n",
       "                }\n",
       "\n",
       "                .geemap-colab {\n",
       "                    background-color: var(--colab-primary-surface-color, white);\n",
       "                }\n",
       "\n",
       "                .geemap-colab .jupyter-button {\n",
       "                    --jp-layout-color3: var(--colab-primary-surface-color, white);\n",
       "                }\n",
       "            </style>\n",
       "            "
      ],
      "text/plain": [
       "<IPython.core.display.HTML object>"
      ]
     },
     "metadata": {},
     "output_type": "display_data"
    },
    {
     "data": {
      "text/plain": [
       "(45933, 9)"
      ]
     },
     "execution_count": 22,
     "metadata": {},
     "output_type": "execute_result"
    }
   ],
   "source": [
    "raster_df.shape"
   ]
  },
  {
   "cell_type": "code",
   "execution_count": 9,
   "metadata": {},
   "outputs": [
    {
     "data": {
      "text/html": [
       "\n",
       "            <style>\n",
       "                .geemap-dark {\n",
       "                    --jp-widgets-color: white;\n",
       "                    --jp-widgets-label-color: white;\n",
       "                    --jp-ui-font-color1: white;\n",
       "                    --jp-layout-color2: #454545;\n",
       "                    background-color: #383838;\n",
       "                }\n",
       "\n",
       "                .geemap-dark .jupyter-button {\n",
       "                    --jp-layout-color3: #383838;\n",
       "                }\n",
       "\n",
       "                .geemap-colab {\n",
       "                    background-color: var(--colab-primary-surface-color, white);\n",
       "                }\n",
       "\n",
       "                .geemap-colab .jupyter-button {\n",
       "                    --jp-layout-color3: var(--colab-primary-surface-color, white);\n",
       "                }\n",
       "            </style>\n",
       "            "
      ],
      "text/plain": [
       "<IPython.core.display.HTML object>"
      ]
     },
     "metadata": {},
     "output_type": "display_data"
    },
    {
     "data": {
      "image/png": "[encoded data removed]",
      "text/plain": [
       "<Figure size 1000x600 with 1 Axes>"
      ]
     },
     "metadata": {},
     "output_type": "display_data"
    },
    {
     "data": {
      "text/plain": [
       "<bound method NDFrame.to_csv of    bi_class  bi_class_int                     bi_class_desc\n",
       "0       0-0             1                  Low temp-Low ppt\n",
       "1       0-1             2           Low temp-Medium Low ppt\n",
       "2       0-2             3          Low temp-Medium High ppt\n",
       "3       0-3             4                 Low temp-High ppt\n",
       "4       1-0             5           Medium Low temp-Low ppt\n",
       "5       1-1             6    Medium Low temp-Medium Low ppt\n",
       "6       1-2             7   Medium Low temp-Medium High ppt\n",
       "7       1-3             8          Medium Low temp-High ppt\n",
       "8       2-0             9          Medium High temp-Low ppt\n",
       "9       2-1            10   Medium High temp-Medium Low ppt\n",
       "10      2-2            11  Medium High temp-Medium High ppt\n",
       "11      2-3            12         Medium High temp-High ppt\n",
       "12      3-0            13                 High temp-Low ppt\n",
       "13      3-1            14          High temp-Medium Low ppt\n",
       "14      3-2            15         High temp-Medium High ppt\n",
       "15      3-3            16                High temp-High ppt>"
      ]
     },
     "execution_count": 9,
     "metadata": {},
     "output_type": "execute_result"
    }
   ],
   "source": [
    "import pandas as pd\n",
    "import matplotlib.pyplot as plt\n",
    "\n",
    "# Assuming raster_df is already defined and contains 'temp' and 'ppt' columns\n",
    "\n",
    "# Drop rows with NaN values\n",
    "raster_df.dropna(inplace=True)\n",
    "\n",
    "# Create quantile-based classification for temperature and precipitation\n",
    "raster_df['temp_class'] = pd.qcut(raster_df['temp'], q=4, labels=False)\n",
    "raster_df['ppt_class'] = pd.qcut(raster_df['ppt'], q=4, labels=False)\n",
    "\n",
    "# Create a bivariate class\n",
    "raster_df['bi_class'] = raster_df['temp_class'].astype(str) + \"-\" + raster_df['ppt_class'].astype(str)\n",
    "\n",
    "# Create a mapping from bivariate class to integer value and description\n",
    "bi_class_mapping = {\n",
    "    '0-0': (1, 'Low temp-Low ppt'), '0-1': (2, 'Low temp-Medium Low ppt'), '0-2': (3, 'Low temp-Medium High ppt'), '0-3': (4, 'Low temp-High ppt'),\n",
    "    '1-0': (5, 'Medium Low temp-Low ppt'), '1-1': (6, 'Medium Low temp-Medium Low ppt'), '1-2': (7, 'Medium Low temp-Medium High ppt'), '1-3': (8, 'Medium Low temp-High ppt'),\n",
    "    '2-0': (9, 'Medium High temp-Low ppt'), '2-1': (10, 'Medium High temp-Medium Low ppt'), '2-2': (11, 'Medium High temp-Medium High ppt'), '2-3': (12, 'Medium High temp-High ppt'),\n",
    "    '3-0': (13, 'High temp-Low ppt'), '3-1': (14, 'High temp-Medium Low ppt'), '3-2': (15, 'High temp-Medium High ppt'), '3-3': (16, 'High temp-High ppt')\n",
    "}\n",
    "\n",
    "# Apply the mapping to create new columns with integer values and descriptions\n",
    "raster_df['bi_class_int'] = raster_df['bi_class'].map(lambda x: bi_class_mapping[x][0])\n",
    "raster_df['bi_class_desc'] = raster_df['bi_class'].map(lambda x: bi_class_mapping[x][1])\n",
    "\n",
    "# Display distribution of the bivariate classes\n",
    "class_distribution = raster_df['bi_class_int'].value_counts().reset_index()\n",
    "class_distribution.columns = ['bi_class_int', 'count']\n",
    "\n",
    "# Plot the distribution of bivariate classes\n",
    "plt.figure(figsize=(10, 6))\n",
    "plt.bar(class_distribution['bi_class_int'], class_distribution['count'], color='skyblue')\n",
    "plt.xticks(rotation=90)\n",
    "plt.title('Distribution of Bivariate Classes')\n",
    "plt.xlabel('Bivariate Class (Temp-PPT)')\n",
    "plt.ylabel('Frequency')\n",
    "plt.show()\n",
    "\n",
    "# Display the mapping for reference\n",
    "bi_class_mapping_df = pd.DataFrame([(k, v[0], v[1]) for k, v in bi_class_mapping.items()], columns=['bi_class', 'bi_class_int', 'bi_class_desc'])\n"
   ]
  },
  {
   "cell_type": "code",
   "execution_count": 105,
   "metadata": {},
   "outputs": [
    {
     "data": {
      "text/html": [
       "\n",
       "            <style>\n",
       "                .geemap-dark {\n",
       "                    --jp-widgets-color: white;\n",
       "                    --jp-widgets-label-color: white;\n",
       "                    --jp-ui-font-color1: white;\n",
       "                    --jp-layout-color2: #454545;\n",
       "                    background-color: #383838;\n",
       "                }\n",
       "\n",
       "                .geemap-dark .jupyter-button {\n",
       "                    --jp-layout-color3: #383838;\n",
       "                }\n",
       "\n",
       "                .geemap-colab {\n",
       "                    background-color: var(--colab-primary-surface-color, white);\n",
       "                }\n",
       "\n",
       "                .geemap-colab .jupyter-button {\n",
       "                    --jp-layout-color3: var(--colab-primary-surface-color, white);\n",
       "                }\n",
       "            </style>\n",
       "            "
      ],
      "text/plain": [
       "<IPython.core.display.HTML object>"
      ]
     },
     "metadata": {},
     "output_type": "display_data"
    },
    {
     "data": {
      "image/png": "[encoded data removed]",
      "text/plain": [
       "<Figure size 1000x1000 with 2 Axes>"
      ]
     },
     "metadata": {},
     "output_type": "display_data"
    }
   ],
   "source": [
    "import numpy as np\n",
    "import pandas as pd\n",
    "import rasterio\n",
    "from rasterio.transform import from_origin\n",
    "from rasterio.enums import Resampling\n",
    "\n",
    "# Assuming raster_df is already defined and contains 'x', 'y', and 'bi_class' columns\n",
    "# Assuming colombia_admin0 is already defined and contains the Colombia boundary shapefile\n",
    "\n",
    "# Set up a bivariate color palette (adjust to your needs)\n",
    "palette = sns.color_palette(\"coolwarm\", as_cmap=True)\n",
    "\n",
    "# Create a color mapping for the bivariate classes\n",
    "unique_classes = raster_df['bi_class'].unique()\n",
    "color_mapping = {cls: palette(i / len(unique_classes)) for i, cls in enumerate(unique_classes)}\n",
    "\n",
    "# Map the bivariate classes to colors\n",
    "raster_df['color'] = raster_df['bi_class'].map(color_mapping)\n",
    "\n",
    "# Load Colombia boundary shapefile\n",
    "colombia_boundary = colombia_admin0\n",
    "\n",
    "# Plot the bivariate raster data\n",
    "fig, ax = plt.subplots(figsize=(10, 10))\n",
    "\n",
    "# Plot the raster data\n",
    "sc = ax.scatter(raster_df['x'], raster_df['y'], c=raster_df['color'], s=1, marker='s')\n",
    "\n",
    "# Plot the Colombia boundary shapefile\n",
    "colombia_boundary.boundary.plot(ax=ax, edgecolor='black')\n",
    "\n",
    "# Add title and labels\n",
    "ax.set_title(\"Colombia: Bivariate Map of Temperature and Precipitation\", fontsize=16)\n",
    "ax.set_xlabel('Longitude')\n",
    "ax.set_ylabel('Latitude')\n",
    "\n",
    "# Add colorbar for the bivariate classes\n",
    "# Create a custom colorbar\n",
    "from matplotlib.colors import ListedColormap\n",
    "import matplotlib.patches as mpatches\n",
    "\n",
    "# Create a colormap and norm\n",
    "cmap = ListedColormap([color_mapping[cls] for cls in unique_classes])\n",
    "norm = plt.Normalize(vmin=0, vmax=len(unique_classes) - 1)\n",
    "\n",
    "# Create a colorbar\n",
    "cbar = plt.colorbar(plt.cm.ScalarMappable(cmap=cmap, norm=norm), ax=ax)\n",
    "cbar.set_ticks([])  # Remove ticks\n",
    "\n",
    "# Create a legend with the bivariate classes\n",
    "handles = [mpatches.Patch(color=color_mapping[cls], label=cls) for cls in unique_classes]\n",
    "ax.legend(handles=handles, title='Bivariate Class', bbox_to_anchor=(1.05, 1), loc='upper left')\n",
    "\n",
    "plt.show()\n"
   ]
  },
  {
   "cell_type": "code",
   "execution_count": 108,
   "metadata": {},
   "outputs": [
    {
     "data": {
      "text/html": [
       "\n",
       "            <style>\n",
       "                .geemap-dark {\n",
       "                    --jp-widgets-color: white;\n",
       "                    --jp-widgets-label-color: white;\n",
       "                    --jp-ui-font-color1: white;\n",
       "                    --jp-layout-color2: #454545;\n",
       "                    background-color: #383838;\n",
       "                }\n",
       "\n",
       "                .geemap-dark .jupyter-button {\n",
       "                    --jp-layout-color3: #383838;\n",
       "                }\n",
       "\n",
       "                .geemap-colab {\n",
       "                    background-color: var(--colab-primary-surface-color, white);\n",
       "                }\n",
       "\n",
       "                .geemap-colab .jupyter-button {\n",
       "                    --jp-layout-color3: var(--colab-primary-surface-color, white);\n",
       "                }\n",
       "            </style>\n",
       "            "
      ],
      "text/plain": [
       "<IPython.core.display.HTML object>"
      ]
     },
     "metadata": {},
     "output_type": "display_data"
    }
   ],
   "source": [
    "import numpy as np\n",
    "import pandas as pd\n",
    "import rasterio\n",
    "from rasterio.transform import from_origin\n",
    "\n",
    "# Assuming raster_df is already defined and contains 'x', 'y', and 'bi_class' columns\n",
    "\n",
    "# Define the raster size and resolution\n",
    "x_min, x_max = raster_df['x'].min(), raster_df['x'].max()\n",
    "y_min, y_max = raster_df['y'].min(), raster_df['y'].max()\n",
    "resolution = 0.01  # Adjust the resolution as needed\n",
    "\n",
    "# Calculate the number of rows and columns\n",
    "n_cols = int((x_max - x_min) / resolution) + 1\n",
    "n_rows = int((y_max - y_min) / resolution) + 1\n",
    "\n",
    "# Create an empty array for the raster data\n",
    "raster_data = np.full((n_rows, n_cols), -1, dtype=np.int32)\n",
    "\n",
    "# Map the bivariate classes to integer values\n",
    "unique_classes = raster_df['bi_class'].unique()\n",
    "class_mapping = {cls: i + 1 for i, cls in enumerate(unique_classes)}  # Start mapping from 1\n",
    "raster_df['class_int'] = raster_df['bi_class'].map(class_mapping)\n",
    "\n",
    "# Populate the raster data array\n",
    "for _, row in raster_df.iterrows():\n",
    "    col = int((row['x'] - x_min) / resolution)\n",
    "    row_idx = int((y_max - row['y']) / resolution)\n",
    "    raster_data[row_idx, col] = row['class_int']\n",
    "\n",
    "# Define the transform\n",
    "transform = from_origin(x_min, y_max, resolution, resolution)\n",
    "\n",
    "# Write the raster data to a file\n",
    "with rasterio.open(\n",
    "    'bivariate_map.tif',\n",
    "    'w',\n",
    "    driver='GTiff',\n",
    "    height=n_rows,\n",
    "    width=n_cols,\n",
    "    count=1,\n",
    "    dtype=raster_data.dtype,\n",
    "    crs='+proj=latlong',\n",
    "    transform=transform,\n",
    ") as dst:\n",
    "    dst.write(raster_data, 1)"
   ]
  },
  {
   "cell_type": "code",
   "execution_count": 110,
   "metadata": {},
   "outputs": [
    {
     "data": {
      "text/html": [
       "\n",
       "            <style>\n",
       "                .geemap-dark {\n",
       "                    --jp-widgets-color: white;\n",
       "                    --jp-widgets-label-color: white;\n",
       "                    --jp-ui-font-color1: white;\n",
       "                    --jp-layout-color2: #454545;\n",
       "                    background-color: #383838;\n",
       "                }\n",
       "\n",
       "                .geemap-dark .jupyter-button {\n",
       "                    --jp-layout-color3: #383838;\n",
       "                }\n",
       "\n",
       "                .geemap-colab {\n",
       "                    background-color: var(--colab-primary-surface-color, white);\n",
       "                }\n",
       "\n",
       "                .geemap-colab .jupyter-button {\n",
       "                    --jp-layout-color3: var(--colab-primary-surface-color, white);\n",
       "                }\n",
       "            </style>\n",
       "            "
      ],
      "text/plain": [
       "<IPython.core.display.HTML object>"
      ]
     },
     "metadata": {},
     "output_type": "display_data"
    },
    {
     "data": {
      "image/png": "[encoded data removed]",
      "text/plain": [
       "<Figure size 1000x600 with 1 Axes>"
      ]
     },
     "metadata": {},
     "output_type": "display_data"
    }
   ],
   "source": [
    "import numpy as np\n",
    "import pandas as pd\n",
    "import rasterio\n",
    "from rasterio.transform import from_origin\n",
    "from scipy.interpolate import griddata\n",
    "import matplotlib.pyplot as plt\n",
    "\n",
    "# Assuming raster_df is already defined and contains 'x', 'y', 'temp', 'ppt', and 'bi_class' columns\n",
    "\n",
    "# Drop rows with NaN values\n",
    "raster_df.dropna(inplace=True)\n",
    "\n",
    "# Create quantile-based classification for temperature and precipitation\n",
    "raster_df['temp_class'] = pd.qcut(raster_df['temp'], q=4, labels=False)\n",
    "raster_df['ppt_class'] = pd.qcut(raster_df['ppt'], q=4, labels=False)\n",
    "\n",
    "# Create a bivariate class\n",
    "raster_df['bi_class'] = raster_df['temp_class'].astype(str) + \"-\" + raster_df['ppt_class'].astype(str)\n",
    "\n",
    "# Display distribution of the bivariate classes\n",
    "class_distribution = raster_df['bi_class'].value_counts().reset_index()\n",
    "class_distribution.columns = ['bi_class', 'count']\n",
    "\n",
    "# Plot the distribution of bivariate classes\n",
    "plt.figure(figsize=(10, 6))\n",
    "plt.bar(class_distribution['bi_class'], class_distribution['count'], color='skyblue')\n",
    "plt.xticks(rotation=90)\n",
    "plt.title('Distribution of Bivariate Classes')\n",
    "plt.xlabel('Bivariate Class (Temp-PPT)')\n",
    "plt.ylabel('Frequency')\n",
    "plt.show()\n",
    "\n",
    "# Export raster_df as a CSV file with coordinates\n",
    "raster_df.to_csv('raster_data_with_coordinates.csv', index=False)\n",
    "\n",
    "# Define the raster size and resolution\n",
    "x_min, x_max = raster_df['x'].min(), raster_df['x'].max()\n",
    "y_min, y_max = raster_df['y'].min(), raster_df['y'].max()\n",
    "resolution = 0.01  # Adjust the resolution as needed\n",
    "\n",
    "# Calculate the number of rows and columns\n",
    "n_cols = int((x_max - x_min) / resolution) + 1\n",
    "n_rows = int((y_max - y_min) / resolution) + 1\n",
    "\n",
    "# Create grid coordinates\n",
    "grid_x, grid_y = np.meshgrid(\n",
    "    np.linspace(x_min, x_max, n_cols),\n",
    "    np.linspace(y_min, y_max, n_rows)\n",
    ")\n",
    "\n",
    "# Map the bivariate classes to integer values\n",
    "unique_classes = raster_df['bi_class'].unique()\n",
    "class_mapping = {cls: i + 1 for i, cls in enumerate(unique_classes)}  # Start mapping from 1\n",
    "raster_df['class_int'] = raster_df['bi_class'].map(class_mapping)\n",
    "\n",
    "# Interpolate the data\n",
    "points = raster_df[['x', 'y']].values\n",
    "values = raster_df['class_int'].values\n",
    "grid_z = griddata(points, values, (grid_x, grid_y), method='nearest')\n",
    "\n",
    "# Define the transform\n",
    "transform = from_origin(x_min, y_max, resolution, resolution)\n",
    "\n",
    "# Write the raster data to a file\n",
    "with rasterio.open(\n",
    "    'bivariate_map.tif',\n",
    "    'w',\n",
    "    driver='GTiff',\n",
    "    height=n_rows,\n",
    "    width=n_cols,\n",
    "    count=1,\n",
    "    dtype=grid_z.dtype,\n",
    "    crs='+proj=latlong',\n",
    "    transform=transform,\n",
    ") as dst:\n",
    "    dst.write(grid_z.astype(np.int32), 1)"
   ]
  },
  {
   "cell_type": "markdown",
   "metadata": {},
   "source": [
    "# Spatial Union"
   ]
  },
  {
   "cell_type": "code",
   "execution_count": 116,
   "metadata": {},
   "outputs": [
    {
     "data": {
      "text/html": [
       "\n",
       "            <style>\n",
       "                .geemap-dark {\n",
       "                    --jp-widgets-color: white;\n",
       "                    --jp-widgets-label-color: white;\n",
       "                    --jp-ui-font-color1: white;\n",
       "                    --jp-layout-color2: #454545;\n",
       "                    background-color: #383838;\n",
       "                }\n",
       "\n",
       "                .geemap-dark .jupyter-button {\n",
       "                    --jp-layout-color3: #383838;\n",
       "                }\n",
       "\n",
       "                .geemap-colab {\n",
       "                    background-color: var(--colab-primary-surface-color, white);\n",
       "                }\n",
       "\n",
       "                .geemap-colab .jupyter-button {\n",
       "                    --jp-layout-color3: var(--colab-primary-surface-color, white);\n",
       "                }\n",
       "            </style>\n",
       "            "
      ],
      "text/plain": [
       "<IPython.core.display.HTML object>"
      ]
     },
     "metadata": {},
     "output_type": "display_data"
    },
    {
     "data": {
      "text/html": [
       "<div>\n",
       "<style scoped>\n",
       "    .dataframe tbody tr th:only-of-type {\n",
       "        vertical-align: middle;\n",
       "    }\n",
       "\n",
       "    .dataframe tbody tr th {\n",
       "        vertical-align: top;\n",
       "    }\n",
       "\n",
       "    .dataframe thead th {\n",
       "        text-align: right;\n",
       "    }\n",
       "</style>\n",
       "<table border=\"1\" class=\"dataframe\">\n",
       "  <thead>\n",
       "    <tr style=\"text-align: right;\">\n",
       "      <th></th>\n",
       "      <th>OBJECTID</th>\n",
       "      <th>ID_ESPACIA</th>\n",
       "      <th>AREA_OFICI</th>\n",
       "      <th>ENTIDAD_TE</th>\n",
       "      <th>NOM_DEPART</th>\n",
       "      <th>NOM_MUNICI</th>\n",
       "      <th>COD_DEPTO</th>\n",
       "      <th>SHAPE_area</th>\n",
       "      <th>SHAPE_len</th>\n",
       "      <th>geometry</th>\n",
       "      <th>clase_predominante</th>\n",
       "    </tr>\n",
       "  </thead>\n",
       "  <tbody>\n",
       "    <tr>\n",
       "      <th>1060</th>\n",
       "      <td>1061</td>\n",
       "      <td>63190</td>\n",
       "      <td>87.0</td>\n",
       "      <td>Cabecera Municipal</td>\n",
       "      <td>QUINDIO</td>\n",
       "      <td>CIRCASIA</td>\n",
       "      <td>63</td>\n",
       "      <td>9.985177e+07</td>\n",
       "      <td>52369.233021</td>\n",
       "      <td>POLYGON ((-75.69893 4.60721, -75.69890 4.60723...</td>\n",
       "      <td>5.0</td>\n",
       "    </tr>\n",
       "    <tr>\n",
       "      <th>561</th>\n",
       "      <td>562</td>\n",
       "      <td>5649</td>\n",
       "      <td>710.0</td>\n",
       "      <td>Cabecera Municipal</td>\n",
       "      <td>ANTIOQUIA</td>\n",
       "      <td>SAN CARLOS</td>\n",
       "      <td>05</td>\n",
       "      <td>7.191968e+08</td>\n",
       "      <td>143538.792632</td>\n",
       "      <td>POLYGON ((-74.81730 6.10472, -74.81778 6.10141...</td>\n",
       "      <td>12.0</td>\n",
       "    </tr>\n",
       "    <tr>\n",
       "      <th>360</th>\n",
       "      <td>361</td>\n",
       "      <td>19130</td>\n",
       "      <td>526.0</td>\n",
       "      <td>Cabecera Municipal</td>\n",
       "      <td>CAUCA</td>\n",
       "      <td>CAJIBÍO</td>\n",
       "      <td>19</td>\n",
       "      <td>5.511318e+08</td>\n",
       "      <td>123854.971992</td>\n",
       "      <td>POLYGON ((-76.76798 2.56691, -76.77004 2.56820...</td>\n",
       "      <td>4.0</td>\n",
       "    </tr>\n",
       "    <tr>\n",
       "      <th>583</th>\n",
       "      <td>584</td>\n",
       "      <td>5425</td>\n",
       "      <td>436.0</td>\n",
       "      <td>Cabecera Municipal</td>\n",
       "      <td>ANTIOQUIA</td>\n",
       "      <td>MACEO</td>\n",
       "      <td>05</td>\n",
       "      <td>4.065094e+08</td>\n",
       "      <td>129971.675433</td>\n",
       "      <td>POLYGON ((-74.56021 6.63806, -74.56087 6.63698...</td>\n",
       "      <td>12.0</td>\n",
       "    </tr>\n",
       "    <tr>\n",
       "      <th>903</th>\n",
       "      <td>904</td>\n",
       "      <td>20710</td>\n",
       "      <td>568.0</td>\n",
       "      <td>Cabecera Municipal</td>\n",
       "      <td>CESAR</td>\n",
       "      <td>SAN ALBERTO</td>\n",
       "      <td>20</td>\n",
       "      <td>5.504071e+08</td>\n",
       "      <td>144792.697746</td>\n",
       "      <td>POLYGON ((-73.29776 7.98511, -73.29775 7.98505...</td>\n",
       "      <td>1.0</td>\n",
       "    </tr>\n",
       "  </tbody>\n",
       "</table>\n",
       "</div>"
      ],
      "text/plain": [
       "      OBJECTID ID_ESPACIA  AREA_OFICI          ENTIDAD_TE NOM_DEPART  \\\n",
       "1060      1061      63190        87.0  Cabecera Municipal    QUINDIO   \n",
       "561        562       5649       710.0  Cabecera Municipal  ANTIOQUIA   \n",
       "360        361      19130       526.0  Cabecera Municipal      CAUCA   \n",
       "583        584       5425       436.0  Cabecera Municipal  ANTIOQUIA   \n",
       "903        904      20710       568.0  Cabecera Municipal      CESAR   \n",
       "\n",
       "       NOM_MUNICI COD_DEPTO    SHAPE_area      SHAPE_len  \\\n",
       "1060     CIRCASIA        63  9.985177e+07   52369.233021   \n",
       "561    SAN CARLOS        05  7.191968e+08  143538.792632   \n",
       "360       CAJIBÍO        19  5.511318e+08  123854.971992   \n",
       "583         MACEO        05  4.065094e+08  129971.675433   \n",
       "903   SAN ALBERTO        20  5.504071e+08  144792.697746   \n",
       "\n",
       "                                               geometry  clase_predominante  \n",
       "1060  POLYGON ((-75.69893 4.60721, -75.69890 4.60723...                 5.0  \n",
       "561   POLYGON ((-74.81730 6.10472, -74.81778 6.10141...                12.0  \n",
       "360   POLYGON ((-76.76798 2.56691, -76.77004 2.56820...                 4.0  \n",
       "583   POLYGON ((-74.56021 6.63806, -74.56087 6.63698...                12.0  \n",
       "903   POLYGON ((-73.29776 7.98511, -73.29775 7.98505...                 1.0  "
      ]
     },
     "execution_count": 116,
     "metadata": {},
     "output_type": "execute_result"
    }
   ],
   "source": [
    "import geopandas as gpd\n",
    "\n",
    "# Load the points and polygons files\n",
    "puntos = gpd.read_file(r'C:\\Users\\alexa\\Desktop\\Puntos_Bivartiant.shp')\n",
    "poligonos = gpd.read_file(r'C:\\Users\\alexa\\Desktop\\Colombia_admin2.shp')\n",
    "\n",
    "# Ensure both GeoDataFrames are in the same projection (EPSG:4326)\n",
    "puntos = puntos.to_crs(epsg=4326)\n",
    "poligonos = poligonos.to_crs(epsg=4326)\n",
    "\n",
    "# Spatial join of points and polygons\n",
    "puntos_poligonos = gpd.sjoin(puntos, poligonos, how='left', op='within')\n",
    "\n",
    "# Assuming the points have a column called 'class_int' with the class of each point\n",
    "conteo_por_clase = puntos_poligonos.groupby(['index_right', 'class_int']).size().reset_index(name='conteo')\n",
    "\n",
    "# Find the predominant class for each polygon\n",
    "predominante = conteo_por_clase.loc[conteo_por_clase.groupby('index_right')['conteo'].idxmax()]\n",
    "\n",
    "# Join the predominant class with the polygons GeoDataFrame\n",
    "poligonos['clase_predominante'] = poligonos.index.map(predominante.set_index('index_right')['class_int'])\n",
    "\n",
    "# Save the resulting file\n",
    "\n",
    "poligonos.sample(5)"
   ]
  },
  {
   "cell_type": "code",
   "execution_count": 121,
   "metadata": {},
   "outputs": [
    {
     "data": {
      "text/html": [
       "\n",
       "            <style>\n",
       "                .geemap-dark {\n",
       "                    --jp-widgets-color: white;\n",
       "                    --jp-widgets-label-color: white;\n",
       "                    --jp-ui-font-color1: white;\n",
       "                    --jp-layout-color2: #454545;\n",
       "                    background-color: #383838;\n",
       "                }\n",
       "\n",
       "                .geemap-dark .jupyter-button {\n",
       "                    --jp-layout-color3: #383838;\n",
       "                }\n",
       "\n",
       "                .geemap-colab {\n",
       "                    background-color: var(--colab-primary-surface-color, white);\n",
       "                }\n",
       "\n",
       "                .geemap-colab .jupyter-button {\n",
       "                    --jp-layout-color3: var(--colab-primary-surface-color, white);\n",
       "                }\n",
       "            </style>\n",
       "            "
      ],
      "text/plain": [
       "<IPython.core.display.HTML object>"
      ]
     },
     "metadata": {},
     "output_type": "display_data"
    }
   ],
   "source": [
    "import numpy as np\n",
    "import pandas as pd\n",
    "import geopandas as gpd\n",
    "from scipy.interpolate import griddata\n",
    "import rasterio\n",
    "from rasterio.transform import from_origin\n",
    "\n",
    "# Load the points and polygons files\n",
    "puntos = gpd.read_file(r'C:\\Users\\alexa\\Desktop\\Puntos_Bivartiant.shp')  # Replace with your file path\n",
    "poligonos = gpd.read_file(r'C:\\Users\\alexa\\Desktop\\Colombia_admin2.shp')\n",
    "\n",
    "# Ensure both GeoDataFrames are in the same projection (EPSG:4326)\n",
    "puntos = puntos.to_crs(epsg=4326)\n",
    "poligonos = poligonos.to_crs(epsg=4326)\n",
    "\n",
    "# Spatial join of points and polygons\n",
    "puntos_poligonos = gpd.sjoin(puntos, poligonos, how='left', op='within')\n",
    "\n",
    "# Assuming the points have columns 'class_int', 'temp', and 'ppt'\n",
    "# Group by polygon and class to count occurrences\n",
    "conteo_por_clase = puntos_poligonos.groupby(['index_right', 'class_int']).size().reset_index(name='conteo')\n",
    "\n",
    "# Find the predominant class for each polygon\n",
    "predominante = conteo_por_clase.loc[conteo_por_clase.groupby('index_right')['conteo'].idxmax()]\n",
    "\n",
    "# Calculate median temp and ppt for each polygon\n",
    "median_temp_ppt = puntos_poligonos.groupby('index_right').agg({'temp': 'median', 'ppt': 'median'}).reset_index()\n",
    "\n",
    "# Join the predominant class and median values with the polygons GeoDataFrame\n",
    "poligonos['clase_predominante'] = poligonos.index.map(predominante.set_index('index_right')['class_int'])\n",
    "poligonos = poligonos.merge(median_temp_ppt, left_index=True, right_on='index_right', how='left')\n",
    "\n",
    "# Save the resulting file\n",
    "poligonos.to_file('poligonos_con_clase_predominante.shp')\n",
    "\n",
    "# Export raster_df as a CSV file with coordinates\n",
    "puntos.to_csv('raster_data_with_coordinates.csv', index=False)\n",
    "\n",
    "# Define the raster size and resolution\n",
    "x_min, x_max = puntos['x'].min(), puntos['x'].max()\n",
    "y_min, y_max = puntos['y'].min(), puntos['y'].max()\n",
    "resolution = 0.01  # Adjust the resolution as needed\n",
    "\n",
    "# Calculate the number of rows and columns\n",
    "n_cols = int((x_max - x_min) / resolution) + 1\n",
    "n_rows = int((y_max - y_min) / resolution) + 1\n",
    "\n",
    "# Create grid coordinates\n",
    "grid_x, grid_y = np.meshgrid(\n",
    "    np.linspace(x_min, x_max, n_cols),\n",
    "    np.linspace(y_min, y_max, n_rows)\n",
    ")\n",
    "\n",
    "# Map the bivariate classes to integer values\n",
    "unique_classes = puntos['bi_class'].unique()\n",
    "class_mapping = {cls: i + 1 for i, cls in enumerate(unique_classes)}  # Start mapping from 1\n",
    "puntos['class_int'] = puntos['bi_class'].map(class_mapping)\n",
    "\n",
    "# Interpolate the data\n",
    "points = puntos[['x', 'y']].values\n",
    "values = puntos['class_int'].values\n",
    "grid_z = griddata(points, values, (grid_x, grid_y), method='nearest')\n",
    "\n"
   ]
  }
 ],
 "metadata": {
  "kernelspec": {
   "display_name": "gee",
   "language": "python",
   "name": "python3"
  },
  "language_info": {
   "codemirror_mode": {
    "name": "ipython",
    "version": 3
   },
   "file_extension": ".py",
   "mimetype": "text/x-python",
   "name": "python",
   "nbconvert_exporter": "python",
   "pygments_lexer": "ipython3",
   "version": "3.12.5"
  }
 },
 "nbformat": 4,
 "nbformat_minor": 2
}
